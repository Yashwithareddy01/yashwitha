{
  "nbformat": 4,
  "nbformat_minor": 0,
  "metadata": {
    "colab": {
      "provenance": [],
      "include_colab_link": true
    },
    "kernelspec": {
      "name": "python3",
      "display_name": "Python 3"
    },
    "language_info": {
      "name": "python"
    }
  },
  "cells": [
    {
      "cell_type": "markdown",
      "metadata": {
        "id": "view-in-github",
        "colab_type": "text"
      },
      "source": [
        "<a href=\"https://colab.research.google.com/github/Yashwithareddy01/yashwitha/blob/main/kannada_disamb.ipynb\" target=\"_parent\"><img src=\"https://colab.research.google.com/assets/colab-badge.svg\" alt=\"Open In Colab\"/></a>"
      ]
    },
    {
      "cell_type": "code",
      "source": [
        "import re\n",
        "import pandas as pd\n",
        "import numpy as np\n",
        "import nltk\n",
        "from nltk.corpus import stopwords\n",
        "from nltk.stem import WordNetLemmatizer\n",
        "from sklearn.model_selection import train_test_split, GridSearchCV\n",
        "from sklearn.metrics import accuracy_score, classification_report\n",
        "from sklearn.ensemble import RandomForestClassifier\n",
        "from sklearn.feature_extraction.text import TfidfVectorizer\n",
        "from imblearn.over_sampling import SMOTE\n",
        "import json\n",
        "\n",
        "# Ensure NLTK data is downloaded\n",
        "nltk.download('punkt')\n",
        "nltk.download('stopwords')\n",
        "nltk.download('wordnet')\n",
        "\n",
        "# Load dataset\n",
        "def load_dataset():\n",
        "    file_path = '/content/drive/MyDrive/Datasets/Dataset_kannada_english.json'\n",
        "    with open(file_path, 'r', encoding='utf-8') as f:\n",
        "        dataset = json.load(f)\n",
        "\n",
        "    data = []\n",
        "    for item in dataset:\n",
        "        word = item['word']\n",
        "        translation = item['translation']\n",
        "        senses = item['senses']\n",
        "        meaning = item['disambiguation'].split(' or ')  # Split multiple meanings\n",
        "        data.append({'Word': word, 'Translation': translation, 'Senses': senses, 'Meanings': meaning})\n",
        "\n",
        "    return pd.DataFrame(data)\n",
        "\n",
        "# Preprocessing Function\n",
        "def preprocess_text(text):\n",
        "    text = text.lower()\n",
        "    text = re.sub(r'[^a-zA-Z]', ' ', text)\n",
        "    words = nltk.word_tokenize(text)\n",
        "    stop_words = set(stopwords.words('english'))\n",
        "    words = [word for word in words if word not in stop_words]\n",
        "    lemmatizer = WordNetLemmatizer()\n",
        "    words = [lemmatizer.lemmatize(word) for word in words]\n",
        "    return ' '.join(words)\n",
        "\n",
        "# Model Training\n",
        "def train_model(dataset):\n",
        "    dataset['Preprocessed'] = dataset['Meanings'].apply(lambda meanings: ' '.join(meanings))\n",
        "    X = dataset['Preprocessed']\n",
        "    y = dataset['Senses']\n",
        "\n",
        "    # Vectorization using TF-IDF\n",
        "    vectorizer = TfidfVectorizer(ngram_range=(1, 2))  # Using unigrams and bigrams\n",
        "    X = vectorizer.fit_transform(X)\n",
        "\n",
        "    # Handle Class Imbalance\n",
        "    smote = SMOTE()\n",
        "    X, y = smote.fit_resample(X, y)\n",
        "\n",
        "    X_train, X_test, y_train, y_test = train_test_split(X, y, test_size=0.2, random_state=42)\n",
        "\n",
        "    # Using RandomForestClassifier for better accuracy\n",
        "    model = RandomForestClassifier(n_estimators=100, random_state=42)\n",
        "\n",
        "    # Hyperparameter tuning\n",
        "    parameters = {\n",
        "        'max_depth': [None, 10, 20, 30],\n",
        "        'min_samples_split': [2, 5, 10],\n",
        "    }\n",
        "\n",
        "    grid_search = GridSearchCV(model, parameters, cv=5)\n",
        "    grid_search.fit(X_train, y_train)\n",
        "\n",
        "    # Test model accuracy\n",
        "    y_pred = grid_search.predict(X_test)\n",
        "    accuracy = accuracy_score(y_test, y_pred)\n",
        "    print(f\"Model accuracy after tuning: {accuracy:.2f}\")\n",
        "    return grid_search, vectorizer\n",
        "\n",
        "# Measure Performance\n",
        "def measure_performance(dataset, model, vectorizer):\n",
        "    test_data = dataset.sample(frac=0.2, random_state=42)\n",
        "    test_X = vectorizer.transform(test_data['Preprocessed'])\n",
        "    test_y = test_data['Senses']\n",
        "    predicted_y = model.predict(test_X)\n",
        "    report = classification_report(test_y, predicted_y)\n",
        "    accuracy = accuracy_score(test_y, predicted_y)\n",
        "    return report, accuracy\n",
        "\n",
        "# Main function\n",
        "def main():\n",
        "    dataset = load_dataset()\n",
        "    model, vectorizer = train_model(dataset)\n",
        "    report, accuracy = measure_performance(dataset, model, vectorizer)\n",
        "    print(\"Classification Report:\\n\", report)\n",
        "    print(\"Accuracy:\", accuracy)\n",
        "\n",
        "    # Get user input\n",
        "    text = input(\"Enter a sentence for disambiguation: \")\n",
        "    word_senses = predict_sense(text, dataset, model, vectorizer)\n",
        "\n",
        "    print(\"Disambiguated Word Senses:\")\n",
        "    for word, meaning in word_senses.items():\n",
        "        print(f\"Word: {word}, Meaning: {meaning}\")\n",
        "\n",
        "if __name__ == \"__main__\":\n",
        "    main()\n"
      ],
      "metadata": {
        "colab": {
          "base_uri": "https://localhost:8080/"
        },
        "id": "GHFZ86t6Qp5N",
        "outputId": "f16d7b68-bcba-4818-a678-3e056377275e"
      },
      "execution_count": 5,
      "outputs": [
        {
          "output_type": "stream",
          "name": "stderr",
          "text": [
            "[nltk_data] Downloading package punkt to /root/nltk_data...\n",
            "[nltk_data]   Package punkt is already up-to-date!\n",
            "[nltk_data] Downloading package stopwords to /root/nltk_data...\n",
            "[nltk_data]   Package stopwords is already up-to-date!\n",
            "[nltk_data] Downloading package wordnet to /root/nltk_data...\n",
            "[nltk_data]   Package wordnet is already up-to-date!\n"
          ]
        },
        {
          "output_type": "stream",
          "name": "stdout",
          "text": [
            "Model accuracy after tuning: 0.95\n",
            "Classification Report:\n",
            "               precision    recall  f1-score   support\n",
            "\n",
            "           2       0.95      0.98      0.97        59\n",
            "           3       0.83      0.62      0.71         8\n",
            "           4       1.00      1.00      1.00         1\n",
            "\n",
            "    accuracy                           0.94        68\n",
            "   macro avg       0.93      0.87      0.89        68\n",
            "weighted avg       0.94      0.94      0.94        68\n",
            "\n",
            "Accuracy: 0.9411764705882353\n",
            "Enter a sentence for disambiguation: Nadi\n",
            "Disambiguated Word Senses:\n",
            "Word: nadi, Meaning: vein\n"
          ]
        }
      ]
    },
    {
      "cell_type": "code",
      "source": [],
      "metadata": {
        "id": "uWCKynhcQqYd"
      },
      "execution_count": null,
      "outputs": []
    }
  ]
}