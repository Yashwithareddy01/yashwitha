{
  "nbformat": 4,
  "nbformat_minor": 0,
  "metadata": {
    "colab": {
      "provenance": [],
      "authorship_tag": "ABX9TyPczz15AxqshPWl2oTuFtVI",
      "include_colab_link": true
    },
    "kernelspec": {
      "name": "python3",
      "display_name": "Python 3"
    },
    "language_info": {
      "name": "python"
    },
    "widgets": {
      "application/vnd.jupyter.widget-state+json": {
        "c1f40b2f27a34b2fac3a8a345b8e4ba2": {
          "model_module": "@jupyter-widgets/controls",
          "model_name": "HBoxModel",
          "model_module_version": "1.5.0",
          "state": {
            "_dom_classes": [],
            "_model_module": "@jupyter-widgets/controls",
            "_model_module_version": "1.5.0",
            "_model_name": "HBoxModel",
            "_view_count": null,
            "_view_module": "@jupyter-widgets/controls",
            "_view_module_version": "1.5.0",
            "_view_name": "HBoxView",
            "box_style": "",
            "children": [
              "IPY_MODEL_308dc957144148c3b9393b81b3764dba",
              "IPY_MODEL_9e9319026e9f4cd2a73b891a710d2109",
              "IPY_MODEL_9309aa10a857445bba71ecf71bf4fde1"
            ],
            "layout": "IPY_MODEL_8e0db41acbaa43b29c9d26a721ae33c0"
          }
        },
        "308dc957144148c3b9393b81b3764dba": {
          "model_module": "@jupyter-widgets/controls",
          "model_name": "HTMLModel",
          "model_module_version": "1.5.0",
          "state": {
            "_dom_classes": [],
            "_model_module": "@jupyter-widgets/controls",
            "_model_module_version": "1.5.0",
            "_model_name": "HTMLModel",
            "_view_count": null,
            "_view_module": "@jupyter-widgets/controls",
            "_view_module_version": "1.5.0",
            "_view_name": "HTMLView",
            "description": "",
            "description_tooltip": null,
            "layout": "IPY_MODEL_a3a04e0d600343d99bc868e52e398c9c",
            "placeholder": "​",
            "style": "IPY_MODEL_12071abd680e4ac19d97f9adadd80336",
            "value": "100%"
          }
        },
        "9e9319026e9f4cd2a73b891a710d2109": {
          "model_module": "@jupyter-widgets/controls",
          "model_name": "FloatProgressModel",
          "model_module_version": "1.5.0",
          "state": {
            "_dom_classes": [],
            "_model_module": "@jupyter-widgets/controls",
            "_model_module_version": "1.5.0",
            "_model_name": "FloatProgressModel",
            "_view_count": null,
            "_view_module": "@jupyter-widgets/controls",
            "_view_module_version": "1.5.0",
            "_view_name": "ProgressView",
            "bar_style": "success",
            "description": "",
            "description_tooltip": null,
            "layout": "IPY_MODEL_03e6548ed932480e8a3092be2128557f",
            "max": 10,
            "min": 0,
            "orientation": "horizontal",
            "style": "IPY_MODEL_4d0865cc9f474330b8b138dcf2f285e5",
            "value": 10
          }
        },
        "9309aa10a857445bba71ecf71bf4fde1": {
          "model_module": "@jupyter-widgets/controls",
          "model_name": "HTMLModel",
          "model_module_version": "1.5.0",
          "state": {
            "_dom_classes": [],
            "_model_module": "@jupyter-widgets/controls",
            "_model_module_version": "1.5.0",
            "_model_name": "HTMLModel",
            "_view_count": null,
            "_view_module": "@jupyter-widgets/controls",
            "_view_module_version": "1.5.0",
            "_view_name": "HTMLView",
            "description": "",
            "description_tooltip": null,
            "layout": "IPY_MODEL_38bafb6372654bc7b77b845aca31d39a",
            "placeholder": "​",
            "style": "IPY_MODEL_fed09745d6fb434db7d9e69c81e1fcb6",
            "value": " 10/10 [00:05&lt;00:00,  1.85it/s]"
          }
        },
        "8e0db41acbaa43b29c9d26a721ae33c0": {
          "model_module": "@jupyter-widgets/base",
          "model_name": "LayoutModel",
          "model_module_version": "1.2.0",
          "state": {
            "_model_module": "@jupyter-widgets/base",
            "_model_module_version": "1.2.0",
            "_model_name": "LayoutModel",
            "_view_count": null,
            "_view_module": "@jupyter-widgets/base",
            "_view_module_version": "1.2.0",
            "_view_name": "LayoutView",
            "align_content": null,
            "align_items": null,
            "align_self": null,
            "border": null,
            "bottom": null,
            "display": null,
            "flex": null,
            "flex_flow": null,
            "grid_area": null,
            "grid_auto_columns": null,
            "grid_auto_flow": null,
            "grid_auto_rows": null,
            "grid_column": null,
            "grid_gap": null,
            "grid_row": null,
            "grid_template_areas": null,
            "grid_template_columns": null,
            "grid_template_rows": null,
            "height": null,
            "justify_content": null,
            "justify_items": null,
            "left": null,
            "margin": null,
            "max_height": null,
            "max_width": null,
            "min_height": null,
            "min_width": null,
            "object_fit": null,
            "object_position": null,
            "order": null,
            "overflow": null,
            "overflow_x": null,
            "overflow_y": null,
            "padding": null,
            "right": null,
            "top": null,
            "visibility": null,
            "width": null
          }
        },
        "a3a04e0d600343d99bc868e52e398c9c": {
          "model_module": "@jupyter-widgets/base",
          "model_name": "LayoutModel",
          "model_module_version": "1.2.0",
          "state": {
            "_model_module": "@jupyter-widgets/base",
            "_model_module_version": "1.2.0",
            "_model_name": "LayoutModel",
            "_view_count": null,
            "_view_module": "@jupyter-widgets/base",
            "_view_module_version": "1.2.0",
            "_view_name": "LayoutView",
            "align_content": null,
            "align_items": null,
            "align_self": null,
            "border": null,
            "bottom": null,
            "display": null,
            "flex": null,
            "flex_flow": null,
            "grid_area": null,
            "grid_auto_columns": null,
            "grid_auto_flow": null,
            "grid_auto_rows": null,
            "grid_column": null,
            "grid_gap": null,
            "grid_row": null,
            "grid_template_areas": null,
            "grid_template_columns": null,
            "grid_template_rows": null,
            "height": null,
            "justify_content": null,
            "justify_items": null,
            "left": null,
            "margin": null,
            "max_height": null,
            "max_width": null,
            "min_height": null,
            "min_width": null,
            "object_fit": null,
            "object_position": null,
            "order": null,
            "overflow": null,
            "overflow_x": null,
            "overflow_y": null,
            "padding": null,
            "right": null,
            "top": null,
            "visibility": null,
            "width": null
          }
        },
        "12071abd680e4ac19d97f9adadd80336": {
          "model_module": "@jupyter-widgets/controls",
          "model_name": "DescriptionStyleModel",
          "model_module_version": "1.5.0",
          "state": {
            "_model_module": "@jupyter-widgets/controls",
            "_model_module_version": "1.5.0",
            "_model_name": "DescriptionStyleModel",
            "_view_count": null,
            "_view_module": "@jupyter-widgets/base",
            "_view_module_version": "1.2.0",
            "_view_name": "StyleView",
            "description_width": ""
          }
        },
        "03e6548ed932480e8a3092be2128557f": {
          "model_module": "@jupyter-widgets/base",
          "model_name": "LayoutModel",
          "model_module_version": "1.2.0",
          "state": {
            "_model_module": "@jupyter-widgets/base",
            "_model_module_version": "1.2.0",
            "_model_name": "LayoutModel",
            "_view_count": null,
            "_view_module": "@jupyter-widgets/base",
            "_view_module_version": "1.2.0",
            "_view_name": "LayoutView",
            "align_content": null,
            "align_items": null,
            "align_self": null,
            "border": null,
            "bottom": null,
            "display": null,
            "flex": null,
            "flex_flow": null,
            "grid_area": null,
            "grid_auto_columns": null,
            "grid_auto_flow": null,
            "grid_auto_rows": null,
            "grid_column": null,
            "grid_gap": null,
            "grid_row": null,
            "grid_template_areas": null,
            "grid_template_columns": null,
            "grid_template_rows": null,
            "height": null,
            "justify_content": null,
            "justify_items": null,
            "left": null,
            "margin": null,
            "max_height": null,
            "max_width": null,
            "min_height": null,
            "min_width": null,
            "object_fit": null,
            "object_position": null,
            "order": null,
            "overflow": null,
            "overflow_x": null,
            "overflow_y": null,
            "padding": null,
            "right": null,
            "top": null,
            "visibility": null,
            "width": null
          }
        },
        "4d0865cc9f474330b8b138dcf2f285e5": {
          "model_module": "@jupyter-widgets/controls",
          "model_name": "ProgressStyleModel",
          "model_module_version": "1.5.0",
          "state": {
            "_model_module": "@jupyter-widgets/controls",
            "_model_module_version": "1.5.0",
            "_model_name": "ProgressStyleModel",
            "_view_count": null,
            "_view_module": "@jupyter-widgets/base",
            "_view_module_version": "1.2.0",
            "_view_name": "StyleView",
            "bar_color": null,
            "description_width": ""
          }
        },
        "38bafb6372654bc7b77b845aca31d39a": {
          "model_module": "@jupyter-widgets/base",
          "model_name": "LayoutModel",
          "model_module_version": "1.2.0",
          "state": {
            "_model_module": "@jupyter-widgets/base",
            "_model_module_version": "1.2.0",
            "_model_name": "LayoutModel",
            "_view_count": null,
            "_view_module": "@jupyter-widgets/base",
            "_view_module_version": "1.2.0",
            "_view_name": "LayoutView",
            "align_content": null,
            "align_items": null,
            "align_self": null,
            "border": null,
            "bottom": null,
            "display": null,
            "flex": null,
            "flex_flow": null,
            "grid_area": null,
            "grid_auto_columns": null,
            "grid_auto_flow": null,
            "grid_auto_rows": null,
            "grid_column": null,
            "grid_gap": null,
            "grid_row": null,
            "grid_template_areas": null,
            "grid_template_columns": null,
            "grid_template_rows": null,
            "height": null,
            "justify_content": null,
            "justify_items": null,
            "left": null,
            "margin": null,
            "max_height": null,
            "max_width": null,
            "min_height": null,
            "min_width": null,
            "object_fit": null,
            "object_position": null,
            "order": null,
            "overflow": null,
            "overflow_x": null,
            "overflow_y": null,
            "padding": null,
            "right": null,
            "top": null,
            "visibility": null,
            "width": null
          }
        },
        "fed09745d6fb434db7d9e69c81e1fcb6": {
          "model_module": "@jupyter-widgets/controls",
          "model_name": "DescriptionStyleModel",
          "model_module_version": "1.5.0",
          "state": {
            "_model_module": "@jupyter-widgets/controls",
            "_model_module_version": "1.5.0",
            "_model_name": "DescriptionStyleModel",
            "_view_count": null,
            "_view_module": "@jupyter-widgets/base",
            "_view_module_version": "1.2.0",
            "_view_name": "StyleView",
            "description_width": ""
          }
        }
      }
    }
  },
  "cells": [
    {
      "cell_type": "markdown",
      "metadata": {
        "id": "view-in-github",
        "colab_type": "text"
      },
      "source": [
        "<a href=\"https://colab.research.google.com/github/Yashwithareddy01/yashwitha/blob/main/vinayaka_shortdata.ipynb\" target=\"_parent\"><img src=\"https://colab.research.google.com/assets/colab-badge.svg\" alt=\"Open In Colab\"/></a>"
      ]
    },
    {
      "cell_type": "code",
      "source": [
        "pip install surprise"
      ],
      "metadata": {
        "colab": {
          "base_uri": "https://localhost:8080/"
        },
        "id": "9gHWbM-PJlmD",
        "outputId": "4c2bd1d5-5803-4afd-88e2-96f648e0e99c"
      },
      "execution_count": null,
      "outputs": [
        {
          "output_type": "stream",
          "name": "stdout",
          "text": [
            "Collecting surprise\n",
            "  Downloading surprise-0.1-py2.py3-none-any.whl.metadata (327 bytes)\n",
            "Collecting scikit-surprise (from surprise)\n",
            "  Downloading scikit_surprise-1.1.4.tar.gz (154 kB)\n",
            "\u001b[?25l     \u001b[90m━━━━━━━━━━━━━━━━━━━━━━━━━━━━━━━━━━━━━━━━\u001b[0m \u001b[32m0.0/154.4 kB\u001b[0m \u001b[31m?\u001b[0m eta \u001b[36m-:--:--\u001b[0m\r\u001b[2K     \u001b[91m━━━━━━━━━━━━━━━━━━━━━━━━━━━━━━━━━━━━━━━\u001b[0m\u001b[91m╸\u001b[0m \u001b[32m153.6/154.4 kB\u001b[0m \u001b[31m4.7 MB/s\u001b[0m eta \u001b[36m0:00:01\u001b[0m\r\u001b[2K     \u001b[90m━━━━━━━━━━━━━━━━━━━━━━━━━━━━━━━━━━━━━━━━\u001b[0m \u001b[32m154.4/154.4 kB\u001b[0m \u001b[31m3.3 MB/s\u001b[0m eta \u001b[36m0:00:00\u001b[0m\n",
            "\u001b[?25h  Installing build dependencies ... \u001b[?25l\u001b[?25hdone\n",
            "  Getting requirements to build wheel ... \u001b[?25l\u001b[?25hdone\n",
            "  Preparing metadata (pyproject.toml) ... \u001b[?25l\u001b[?25hdone\n",
            "Requirement already satisfied: joblib>=1.2.0 in /usr/local/lib/python3.10/dist-packages (from scikit-surprise->surprise) (1.4.2)\n",
            "Requirement already satisfied: numpy>=1.19.5 in /usr/local/lib/python3.10/dist-packages (from scikit-surprise->surprise) (1.26.4)\n",
            "Requirement already satisfied: scipy>=1.6.0 in /usr/local/lib/python3.10/dist-packages (from scikit-surprise->surprise) (1.13.1)\n",
            "Downloading surprise-0.1-py2.py3-none-any.whl (1.8 kB)\n",
            "Building wheels for collected packages: scikit-surprise\n",
            "  Building wheel for scikit-surprise (pyproject.toml) ... \u001b[?25l\u001b[?25hdone\n",
            "  Created wheel for scikit-surprise: filename=scikit_surprise-1.1.4-cp310-cp310-linux_x86_64.whl size=2357273 sha256=4be57a4b611397ec28059c89c23be81489e217b5ea7bef7a96a85facf327bd9e\n",
            "  Stored in directory: /root/.cache/pip/wheels/4b/3f/df/6acbf0a40397d9bf3ff97f582cc22fb9ce66adde75bc71fd54\n",
            "Successfully built scikit-surprise\n",
            "Installing collected packages: scikit-surprise, surprise\n",
            "Successfully installed scikit-surprise-1.1.4 surprise-0.1\n"
          ]
        }
      ]
    },
    {
      "cell_type": "code",
      "source": [
        "pip install implicit"
      ],
      "metadata": {
        "colab": {
          "base_uri": "https://localhost:8080/"
        },
        "id": "LvRoFY3RKBHN",
        "outputId": "f822b0e2-f54f-4465-c135-20dbad7a0156"
      },
      "execution_count": null,
      "outputs": [
        {
          "output_type": "stream",
          "name": "stdout",
          "text": [
            "Collecting implicit\n",
            "  Downloading implicit-0.7.2-cp310-cp310-manylinux2014_x86_64.whl.metadata (6.1 kB)\n",
            "Requirement already satisfied: numpy>=1.17.0 in /usr/local/lib/python3.10/dist-packages (from implicit) (1.26.4)\n",
            "Requirement already satisfied: scipy>=0.16 in /usr/local/lib/python3.10/dist-packages (from implicit) (1.13.1)\n",
            "Requirement already satisfied: tqdm>=4.27 in /usr/local/lib/python3.10/dist-packages (from implicit) (4.66.5)\n",
            "Requirement already satisfied: threadpoolctl in /usr/local/lib/python3.10/dist-packages (from implicit) (3.5.0)\n",
            "Downloading implicit-0.7.2-cp310-cp310-manylinux2014_x86_64.whl (8.9 MB)\n",
            "\u001b[2K   \u001b[90m━━━━━━━━━━━━━━━━━━━━━━━━━━━━━━━━━━━━━━━━\u001b[0m \u001b[32m8.9/8.9 MB\u001b[0m \u001b[31m48.7 MB/s\u001b[0m eta \u001b[36m0:00:00\u001b[0m\n",
            "\u001b[?25hInstalling collected packages: implicit\n",
            "Successfully installed implicit-0.7.2\n"
          ]
        }
      ]
    },
    {
      "cell_type": "code",
      "source": [
        "import pandas as pd\n",
        "from surprise import Reader, Dataset, SVD, accuracy\n",
        "from surprise.model_selection import train_test_split, GridSearchCV\n",
        "from sklearn.model_selection import train_test_split as sklearn_split\n",
        "from sklearn.metrics import mean_squared_error, mean_absolute_error\n",
        "from math import sqrt\n",
        "from implicit.als import AlternatingLeastSquares\n",
        "import numpy as np\n",
        "from scipy.sparse import coo_matrix\n",
        "from sklearn.preprocessing import MinMaxScaler\n",
        "from sklearn.metrics.pairwise import cosine_similarity"
      ],
      "metadata": {
        "id": "PfzXsU6RJBhV"
      },
      "execution_count": null,
      "outputs": []
    },
    {
      "cell_type": "code",
      "source": [
        "from google.colab import drive\n",
        "drive.mount('/content/drive')"
      ],
      "metadata": {
        "colab": {
          "base_uri": "https://localhost:8080/"
        },
        "id": "asuWysExJCTb",
        "outputId": "953a3735-247b-4c6e-b62a-60a3f036f02e"
      },
      "execution_count": null,
      "outputs": [
        {
          "output_type": "stream",
          "name": "stdout",
          "text": [
            "Mounted at /content/drive\n"
          ]
        }
      ]
    },
    {
      "cell_type": "code",
      "source": [
        "# Step 1: Load and Prepare Data\n",
        "movies = pd.read_csv('/content/drive/MyDrive/Hybrid-Recommendation-System-master/movies.csv')\n",
        "ratings = pd.read_csv('/content/drive/MyDrive/Hybrid-Recommendation-System-master/ratings.csv')\n",
        "\n",
        "# Data cleaning\n",
        "movies.dropna(inplace=True)\n",
        "ratings.dropna(inplace=True)\n",
        "\n",
        "# Step 2: Normalize ratings (0.5 to 5)\n",
        "scaler = MinMaxScaler(feature_range=(0.5, 5))\n",
        "ratings['rating'] = scaler.fit_transform(ratings[['rating']])\n",
        "\n",
        "# Step 3: Split data into x_train, y_train, x_test, and y_test\n",
        "x = ratings[['userId', 'movieId']]  # Features (UserID and MovieID)\n",
        "y = ratings['rating']                # Target (Ratings)\n",
        "\n",
        "# Split into training and testing set (80% train, 20% test)\n",
        "x_train, x_test, y_train, y_test = sklearn_split(x, y, test_size=0.2, random_state=42)\n",
        "\n",
        "# Step 4: Prepare the Surprise Dataset for SVD\n",
        "reader = Reader(rating_scale=(0.5, 5.0))\n",
        "train_data = Dataset.load_from_df(pd.concat([x_train, y_train], axis=1), reader)\n",
        "trainset = train_data.build_full_trainset()\n",
        "\n",
        "testset = [(row['userId'], row['movieId'], y_true) for (row, y_true) in zip(x_test.to_dict('records'), y_test)]"
      ],
      "metadata": {
        "id": "V0hq06yrKYtE"
      },
      "execution_count": null,
      "outputs": []
    },
    {
      "cell_type": "code",
      "source": [
        " #Step 5: Hyperparameter tuning for SVD model\n",
        "param_grid = {\n",
        "    'n_factors': [20, 50, 100],        # Number of latent factors\n",
        "    'reg_all': [0.02, 0.1, 0.2],       # Regularization term\n",
        "    'lr_all': [0.002, 0.005, 0.01]     # Learning rate\n",
        "}\n",
        "grid_search = GridSearchCV(SVD, param_grid, measures=['rmse', 'mae'], cv=3)\n",
        "grid_search.fit(train_data)"
      ],
      "metadata": {
        "id": "u89BcBvBKlG1"
      },
      "execution_count": null,
      "outputs": []
    },
    {
      "cell_type": "code",
      "execution_count": null,
      "metadata": {
        "colab": {
          "base_uri": "https://localhost:8080/"
        },
        "id": "Qmt75BbwIuUQ",
        "outputId": "7de8f3a7-9d50-4932-eaad-c25f959889c9"
      },
      "outputs": [
        {
          "output_type": "stream",
          "name": "stdout",
          "text": [
            "Best SVD model parameters: {'n_factors': 100, 'reg_all': 0.1, 'lr_all': 0.01}\n",
            "RMSE: 0.8722\n",
            "MAE:  0.6679\n"
          ]
        }
      ],
      "source": [
        "\n",
        "\n",
        "\n",
        "#\n",
        "\n",
        "# Best SVD model after hyperparameter tuning\n",
        "best_svd_model = grid_search.best_estimator['rmse']\n",
        "print(\"Best SVD model parameters:\", grid_search.best_params['rmse'])\n",
        "\n",
        "# Step 6: Train the best SVD model on training data\n",
        "best_svd_model.fit(trainset)\n",
        "\n",
        "# Step 7: Predictions using the best SVD model\n",
        "svd_predictions = best_svd_model.test(testset)\n",
        "\n",
        "# Step 8: Evaluate the SVD model\n",
        "rmse_svd = accuracy.rmse(svd_predictions)\n",
        "mae_svd = accuracy.mae(svd_predictions)\n",
        "\n",
        "# Step 9: Evaluate precision@k and recall@k for SVD\n",
        "def precision_recall_at_k(predictions, k=10, threshold=3.5):\n",
        "    user_est_true = {}\n",
        "    for pred in predictions:\n",
        "        user_est_true.setdefault(pred.uid, []).append((pred.est, pred.r_ui))\n",
        "\n",
        "    precisions = []\n",
        "    recalls = []\n",
        "    for uid, user_ratings in user_est_true.items():\n",
        "        user_ratings.sort(key=lambda x: x[0], reverse=True)\n",
        "        top_k_ratings = user_ratings[:k]\n",
        "\n",
        "        n_rel = sum((true_r > threshold) for (_, true_r) in user_ratings)\n",
        "        n_rec_k = sum((est_r > threshold) for (est_r, _) in top_k_ratings)\n",
        "        n_rel_and_rec_k = sum(((true_r > threshold) and (est_r > threshold))\n",
        "                              for (est_r, true_r) in top_k_ratings)\n",
        "\n",
        "        precisions.append(n_rel_and_rec_k / n_rec_k if n_rec_k != 0 else 1)\n",
        "        recalls.append(n_rel_and_rec_k / n_rel if n_rel != 0 else 1)\n",
        "\n",
        "    return np.mean(precisions), np.mean(recalls)\n",
        "\n",
        "precision_svd, recall_svd = precision_recall_at_k(svd_predictions, k=10)\n",
        "\n"
      ]
    },
    {
      "cell_type": "code",
      "source": [
        "# Step 10: Alternating Least Squares (ALS) model\n",
        "# Prepare data for ALS (create a sparse matrix)\n",
        "user_item_matrix = coo_matrix((ratings['rating'], (ratings['userId'], ratings['movieId'])))\n",
        "als_model = AlternatingLeastSquares(factors=50, regularization=0.1, iterations=10)\n",
        "als_model.fit(user_item_matrix.T)\n",
        "\n",
        "user_id = 1  # Example user ID\n",
        "\n",
        "# Create a user_items matrix with a single row for the target user\n",
        "user_items = user_item_matrix.tocsr()[user_id - 1, :].tocsr()  # Adjust for zero-based indexing\n",
        "\n",
        "# Get recommendations for the target user\n",
        "als_user_recs = als_model.recommend(user_id, user_items, N=10)\n",
        "print(\"ALS Recommendations for user 1:\", als_user_recs)\n",
        "\n",
        "# Step 12: Evaluation for ALS\n",
        "# Get predicted ratings for ALS\n",
        "# Here we ensure we use the correct user_item_matrix for predictions\n",
        "#als_user_ratings = user_item_matrix.dot(als_model.item_factors.T) # Incorrect: Dimension mismatch\n",
        "\n",
        "# Corrected line: Multiply user factors by item factors\n",
        "als_user_ratings = als_model.user_factors.dot(als_model.item_factors.T)\n",
        "\n",
        "# Debugging prints to check dimensions\n",
        "print(\"Shape of user_item_matrix:\", user_item_matrix.shape)\n",
        "print(\"Shape of als_model.item_factors:\", als_model.item_factors.shape)\n",
        "print(\"Shape of als_model.user_factors:\", als_model.user_factors.shape) # Add this line\n",
        "\n",
        "# Check if the multiplication can happen\n",
        "try:\n",
        "    als_rmse = sqrt(mean_squared_error(user_item_matrix.toarray().ravel(), als_user_ratings.ravel()))\n",
        "    als_mae = mean_absolute_error(user_item_matrix.toarray().ravel(), als_user_ratings.ravel())\n",
        "    print(f\"ALS RMSE: {als_rmse}\")\n",
        "    print(f\"ALS MAE: {als_mae}\")\n",
        "except ValueError as e:\n",
        "    print(f\"Error during evaluation: {e}\")"
      ],
      "metadata": {
        "colab": {
          "base_uri": "https://localhost:8080/",
          "height": 225,
          "referenced_widgets": [
            "c1f40b2f27a34b2fac3a8a345b8e4ba2",
            "308dc957144148c3b9393b81b3764dba",
            "9e9319026e9f4cd2a73b891a710d2109",
            "9309aa10a857445bba71ecf71bf4fde1",
            "8e0db41acbaa43b29c9d26a721ae33c0",
            "a3a04e0d600343d99bc868e52e398c9c",
            "12071abd680e4ac19d97f9adadd80336",
            "03e6548ed932480e8a3092be2128557f",
            "4d0865cc9f474330b8b138dcf2f285e5",
            "38bafb6372654bc7b77b845aca31d39a",
            "fed09745d6fb434db7d9e69c81e1fcb6"
          ]
        },
        "id": "xZPyw7iWT9yG",
        "outputId": "4c7932d2-4fd7-4e0c-d2f7-7e3c3f2929b2"
      },
      "execution_count": null,
      "outputs": [
        {
          "output_type": "stream",
          "name": "stderr",
          "text": [
            "/usr/local/lib/python3.10/dist-packages/implicit/utils.py:164: ParameterWarning: Method expects CSR input, and was passed coo_matrix instead. Converting to CSR took 0.0030367374420166016 seconds\n",
            "  warnings.warn(\n"
          ]
        },
        {
          "output_type": "display_data",
          "data": {
            "text/plain": [
              "  0%|          | 0/10 [00:00<?, ?it/s]"
            ],
            "application/vnd.jupyter.widget-view+json": {
              "version_major": 2,
              "version_minor": 0,
              "model_id": "c1f40b2f27a34b2fac3a8a345b8e4ba2"
            }
          },
          "metadata": {}
        },
        {
          "output_type": "stream",
          "name": "stdout",
          "text": [
            "ALS Recommendations for user 1: (array([534, 514, 202, 111, 477,   6, 381,  45, 462,  84], dtype=int32), array([1.3590391, 1.3263662, 1.3240246, 1.3199035, 1.3165274, 1.2957572,\n",
            "       1.2849975, 1.2775058, 1.2617396, 1.2360325], dtype=float32))\n",
            "Shape of user_item_matrix: (611, 193610)\n",
            "Shape of als_model.item_factors: (611, 50)\n",
            "Shape of als_model.user_factors: (193610, 50)\n",
            "ALS RMSE: 0.11067418944897683\n",
            "ALS MAE: 0.005720024089396643\n"
          ]
        }
      ]
    },
    {
      "cell_type": "code",
      "source": [
        "# Step 13: Cosine Similarity\n",
        "# Create user-item matrix for cosine similarity\n",
        "user_item_matrix_full = ratings.pivot(index='userId', columns='movieId', values='rating').fillna(0)\n",
        "\n",
        "# Calculate cosine similarity between movies\n",
        "movie_similarity = cosine_similarity(user_item_matrix_full.T)\n",
        "\n",
        "# Function to get movie recommendations based on cosine similarity"
      ],
      "metadata": {
        "id": "ma3bZOVqUbFd"
      },
      "execution_count": null,
      "outputs": []
    },
    {
      "cell_type": "code",
      "source": [
        "def get_movie_recommendations(movie_id, movie_similarity, movies, top_n=10):\n",
        "    movie_idx = movies[movies['movieId'] == movie_id].index[0]\n",
        "    similar_indices = movie_similarity[movie_idx].argsort()[-top_n-1:-1][::-1]  # Get indices of top N similar movies\n",
        "    return movies.iloc[similar_indices]\n",
        "\n",
        "# Example: Get recommendations for a specific movie (replace movie_id with your choice)\n",
        "movie_id_example = 1  # Replace with a movieId you want recommendations for\n",
        "recommended_movies = get_movie_recommendations(movie_id_example, movie_similarity, movies)\n",
        "print(f\"Movies recommended based on movie ID {movie_id_example}:\\n\", recommended_movies)\n",
        "\n",
        "# Step 14: Print out all metrics\n",
        "print(f\"SVD RMSE: {rmse_svd}\")\n",
        "print(f\"SVD MAE: {mae_svd}\")\n",
        "print(f\"SVD Precision@10: {precision_svd}\")\n",
        "print(f\"SVD Recall@10: {recall_svd}\")\n",
        "print(f\"ALS RMSE: {als_rmse}\")\n",
        "print(f\"ALS MAE: {als_mae}\")\n",
        "\n",
        "# Step 15: Print ALS recommendations\n",
        "als_movie_ids = [item[0] for item in als_user_recs]\n",
        "als_movie_titles = movies[movies['movieId'].isin(als_movie_ids)]\n",
        "print(\"ALS Recommendations (Movie Titles):\\n\", als_movie_titles)\n"
      ],
      "metadata": {
        "colab": {
          "base_uri": "https://localhost:8080/"
        },
        "id": "9eWDya76LlVh",
        "outputId": "3adc3512-ebbf-4e89-f67b-1ddda3e44c3f"
      },
      "execution_count": null,
      "outputs": [
        {
          "output_type": "stream",
          "name": "stdout",
          "text": [
            "Movies recommended based on movie ID 1:\n",
            "       movieId                                              title  \\\n",
            "2353     3112                               'night Mother (1986)   \n",
            "418       480                               Jurassic Park (1993)   \n",
            "615       780               Independence Day (a.k.a. ID4) (1996)   \n",
            "224       260          Star Wars: Episode IV - A New Hope (1977)   \n",
            "314       356                                Forrest Gump (1994)   \n",
            "322       364                              Lion King, The (1994)   \n",
            "910      1209  Once Upon a Time in the West (C'era una volta ...   \n",
            "546       648                         Mission: Impossible (1996)   \n",
            "963      1264                                        Diva (1981)   \n",
            "968      1269                        Arsenic and Old Lace (1944)   \n",
            "\n",
            "                                               genres  \n",
            "2353                                            Drama  \n",
            "418                  Action|Adventure|Sci-Fi|Thriller  \n",
            "615                  Action|Adventure|Sci-Fi|Thriller  \n",
            "224                           Action|Adventure|Sci-Fi  \n",
            "314                          Comedy|Drama|Romance|War  \n",
            "322   Adventure|Animation|Children|Drama|Musical|IMAX  \n",
            "910                              Action|Drama|Western  \n",
            "546                 Action|Adventure|Mystery|Thriller  \n",
            "963             Action|Drama|Mystery|Romance|Thriller  \n",
            "968                           Comedy|Mystery|Thriller  \n",
            "SVD RMSE: 0.8721935229342073\n",
            "SVD MAE: 0.6678794134083378\n",
            "SVD Precision@10: 0.7306947697111631\n",
            "SVD Recall@10: 0.5576147990588277\n",
            "ALS RMSE: 0.11067418944897683\n",
            "ALS MAE: 0.005720024089396643\n",
            "ALS Recommendations (Movie Titles):\n",
            "      movieId               title         genres\n",
            "467      534  Shadowlands (1993)  Drama|Romance\n"
          ]
        }
      ]
    },
    {
      "cell_type": "code",
      "source": [],
      "metadata": {
        "id": "bbnSzxeyUg93"
      },
      "execution_count": null,
      "outputs": []
    }
  ]
}